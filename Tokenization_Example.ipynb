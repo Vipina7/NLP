{
 "cells": [
  {
   "cell_type": "code",
   "execution_count": 1,
   "id": "b0a6aab0",
   "metadata": {},
   "outputs": [
    {
     "name": "stdout",
     "output_type": "stream",
     "text": [
      "Requirement already satisfied: nltk in c:\\programdata\\anaconda3\\lib\\site-packages (3.7)\n",
      "Requirement already satisfied: click in c:\\programdata\\anaconda3\\lib\\site-packages (from nltk) (8.0.4)\n",
      "Requirement already satisfied: regex>=2021.8.3 in c:\\programdata\\anaconda3\\lib\\site-packages (from nltk) (2022.7.9)\n",
      "Requirement already satisfied: joblib in c:\\programdata\\anaconda3\\lib\\site-packages (from nltk) (1.1.1)\n",
      "Requirement already satisfied: tqdm in c:\\programdata\\anaconda3\\lib\\site-packages (from nltk) (4.64.1)\n",
      "Requirement already satisfied: colorama in c:\\programdata\\anaconda3\\lib\\site-packages (from click->nltk) (0.4.6)\n"
     ]
    }
   ],
   "source": [
    "!pip install nltk"
   ]
  },
  {
   "cell_type": "code",
   "execution_count": 2,
   "id": "68738be9",
   "metadata": {},
   "outputs": [],
   "source": [
    "corpus = \"\"\"Hello!! This is Vipina Manjunatha. I am an aspiring Data Scientist. I'm currently perceiving masters in Data Science. This is Vipina's first nlp python file.\"\"\""
   ]
  },
  {
   "cell_type": "code",
   "execution_count": 3,
   "id": "318c0b65",
   "metadata": {},
   "outputs": [],
   "source": [
    "from nltk.tokenize import sent_tokenize"
   ]
  },
  {
   "cell_type": "code",
   "execution_count": 4,
   "id": "c73f53ec",
   "metadata": {},
   "outputs": [
    {
     "data": {
      "text/plain": [
       "['Hello!!',\n",
       " 'This is Vipina Manjunatha.',\n",
       " 'I am an aspiring Data Scientist.',\n",
       " \"I'm currently perceiving masters in Data Science.\",\n",
       " \"This is Vipina's first nlp python file.\"]"
      ]
     },
     "execution_count": 4,
     "metadata": {},
     "output_type": "execute_result"
    }
   ],
   "source": [
    "# Tokenization of each sentence in the corpus\n",
    "sentences = sent_tokenize(corpus)\n",
    "sentences"
   ]
  },
  {
   "cell_type": "code",
   "execution_count": 5,
   "id": "4cf57070",
   "metadata": {},
   "outputs": [
    {
     "name": "stdout",
     "output_type": "stream",
     "text": [
      "Hello!!\n",
      "This is Vipina Manjunatha.\n",
      "I am an aspiring Data Scientist.\n",
      "I'm currently perceiving masters in Data Science.\n",
      "This is Vipina's first nlp python file.\n"
     ]
    }
   ],
   "source": [
    "for i in sentences:\n",
    "    print(i)"
   ]
  },
  {
   "cell_type": "code",
   "execution_count": 6,
   "id": "8d8d5bde",
   "metadata": {},
   "outputs": [],
   "source": [
    "from nltk.tokenize import word_tokenize"
   ]
  },
  {
   "cell_type": "code",
   "execution_count": 12,
   "id": "4c32fe9c",
   "metadata": {},
   "outputs": [
    {
     "name": "stdout",
     "output_type": "stream",
     "text": [
      "['Hello', '!', '!']\n",
      "['This', 'is', 'Vipina', 'Manjunatha', '.']\n",
      "['I', 'am', 'an', 'aspiring', 'Data', 'Scientist', '.']\n",
      "['I', \"'m\", 'currently', 'perceiving', 'masters', 'in', 'Data', 'Science', '.']\n",
      "['This', 'is', 'Vipina', \"'s\", 'first', 'nlp', 'python', 'file', '.']\n"
     ]
    }
   ],
   "source": [
    "## Tokenizing the sentences\n",
    "for sentence in sentences:\n",
    "    print(word_tokenize(sentence))"
   ]
  },
  {
   "cell_type": "code",
   "execution_count": 7,
   "id": "b39a2705",
   "metadata": {},
   "outputs": [
    {
     "data": {
      "text/plain": [
       "['Hello',\n",
       " '!',\n",
       " '!',\n",
       " 'This',\n",
       " 'is',\n",
       " 'Vipina',\n",
       " 'Manjunatha',\n",
       " '.',\n",
       " 'I',\n",
       " 'am',\n",
       " 'an',\n",
       " 'aspiring',\n",
       " 'Data',\n",
       " 'Scientist',\n",
       " '.',\n",
       " 'I',\n",
       " \"'m\",\n",
       " 'currently',\n",
       " 'perceiving',\n",
       " 'masters',\n",
       " 'in',\n",
       " 'Data',\n",
       " 'Science',\n",
       " '.',\n",
       " 'This',\n",
       " 'is',\n",
       " 'Vipina',\n",
       " \"'s\",\n",
       " 'first',\n",
       " 'nlp',\n",
       " 'python',\n",
       " 'file',\n",
       " '.']"
      ]
     },
     "execution_count": 7,
     "metadata": {},
     "output_type": "execute_result"
    }
   ],
   "source": [
    "# tokenizing a corpus to words\n",
    "word_tokenize(corpus)"
   ]
  },
  {
   "cell_type": "code",
   "execution_count": 8,
   "id": "540c200d",
   "metadata": {},
   "outputs": [],
   "source": [
    "from nltk.tokenize import wordpunct_tokenize"
   ]
  },
  {
   "cell_type": "code",
   "execution_count": 9,
   "id": "924ce66a",
   "metadata": {},
   "outputs": [
    {
     "data": {
      "text/plain": [
       "['Hello',\n",
       " '!!',\n",
       " 'This',\n",
       " 'is',\n",
       " 'Vipina',\n",
       " 'Manjunatha',\n",
       " '.',\n",
       " 'I',\n",
       " 'am',\n",
       " 'an',\n",
       " 'aspiring',\n",
       " 'Data',\n",
       " 'Scientist',\n",
       " '.',\n",
       " 'I',\n",
       " \"'\",\n",
       " 'm',\n",
       " 'currently',\n",
       " 'perceiving',\n",
       " 'masters',\n",
       " 'in',\n",
       " 'Data',\n",
       " 'Science',\n",
       " '.',\n",
       " 'This',\n",
       " 'is',\n",
       " 'Vipina',\n",
       " \"'\",\n",
       " 's',\n",
       " 'first',\n",
       " 'nlp',\n",
       " 'python',\n",
       " 'file',\n",
       " '.']"
      ]
     },
     "execution_count": 9,
     "metadata": {},
     "output_type": "execute_result"
    }
   ],
   "source": [
    "# Here every punctuation is considered a separate word.\n",
    "wordpunct_tokenize(corpus)"
   ]
  },
  {
   "cell_type": "code",
   "execution_count": 10,
   "id": "b1f94733",
   "metadata": {},
   "outputs": [],
   "source": [
    "from nltk.tokenize import TreebankWordTokenizer\n",
    "tokenizer = TreebankWordTokenizer()"
   ]
  },
  {
   "cell_type": "code",
   "execution_count": 11,
   "id": "596e45d4",
   "metadata": {},
   "outputs": [
    {
     "data": {
      "text/plain": [
       "['Hello',\n",
       " '!',\n",
       " '!',\n",
       " 'This',\n",
       " 'is',\n",
       " 'Vipina',\n",
       " 'Manjunatha.',\n",
       " 'I',\n",
       " 'am',\n",
       " 'an',\n",
       " 'aspiring',\n",
       " 'Data',\n",
       " 'Scientist.',\n",
       " 'I',\n",
       " \"'m\",\n",
       " 'currently',\n",
       " 'perceiving',\n",
       " 'masters',\n",
       " 'in',\n",
       " 'Data',\n",
       " 'Science.',\n",
       " 'This',\n",
       " 'is',\n",
       " 'Vipina',\n",
       " \"'s\",\n",
       " 'first',\n",
       " 'nlp',\n",
       " 'python',\n",
       " 'file',\n",
       " '.']"
      ]
     },
     "execution_count": 11,
     "metadata": {},
     "output_type": "execute_result"
    }
   ],
   "source": [
    "# Here the fullstop of every sentence is not considered a separete word execpt for the fullstop \n",
    "# of the last sentence\n",
    "tokenizer.tokenize(corpus)"
   ]
  },
  {
   "cell_type": "code",
   "execution_count": null,
   "id": "e88af42b",
   "metadata": {},
   "outputs": [],
   "source": []
  }
 ],
 "metadata": {
  "kernelspec": {
   "display_name": "Python 3 (ipykernel)",
   "language": "python",
   "name": "python3"
  },
  "language_info": {
   "codemirror_mode": {
    "name": "ipython",
    "version": 3
   },
   "file_extension": ".py",
   "mimetype": "text/x-python",
   "name": "python",
   "nbconvert_exporter": "python",
   "pygments_lexer": "ipython3",
   "version": "3.10.9"
  }
 },
 "nbformat": 4,
 "nbformat_minor": 5
}
